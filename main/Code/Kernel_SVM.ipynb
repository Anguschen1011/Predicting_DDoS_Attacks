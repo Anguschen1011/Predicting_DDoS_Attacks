{
  "cells": [
    {
      "cell_type": "code",
      "execution_count": 1,
      "metadata": {
        "id": "p4dXWYWCT1jp"
      },
      "outputs": [],
      "source": [
        "import pandas as pd\n",
        "from sklearn.model_selection import train_test_split\n",
        "from sklearn.preprocessing import StandardScaler\n",
        "from sklearn.svm import SVC\n",
        "from sklearn.metrics import accuracy_score, precision_score, recall_score, f1_score, roc_auc_score, confusion_matrix\n",
        "from sklearn.model_selection import cross_val_score\n",
        "import numpy as np\n",
        "import joblib"
      ]
    },
    {
      "cell_type": "code",
      "execution_count": 2,
      "metadata": {
        "colab": {
          "base_uri": "https://localhost:8080/"
        },
        "id": "TyBKoqDnIi9u",
        "outputId": "76e22f37-0f49-4d07-98df-548d275fd5dd"
      },
      "outputs": [
        {
          "name": "stdout",
          "output_type": "stream",
          "text": [
            "Training Data : (82332, 45)\n",
            "'id'  'dur'  'proto'  'service'  'state'  'spkts'  'dpkts'  'sbytes'  'dbytes'  'rate'  'sttl'  'dttl'  'sload'  'dload'  'sloss'  'dloss'  'sinpkt'  'dinpkt'  'sjit'  'djit'  'swin'  'stcpb'  'dtcpb'  'dwin'  'tcprtt'  'synack'  'ackdat'  'smean'  'dmean'  'trans_depth'  'response_body_len'  'ct_srv_src'  'ct_state_ttl'  'ct_dst_ltm'  'ct_src_dport_ltm'  'ct_dst_sport_ltm'  'ct_dst_src_ltm'  'is_ftp_login'  'ct_ftp_cmd'  'ct_flw_http_mthd'  'ct_src_ltm'  'ct_srv_dst'  'is_sm_ips_ports'  'attack_cat'  'label'  \n",
            " Testing Data : (175341, 45)\n",
            "'id'  'dur'  'proto'  'service'  'state'  'spkts'  'dpkts'  'sbytes'  'dbytes'  'rate'  'sttl'  'dttl'  'sload'  'dload'  'sloss'  'dloss'  'sinpkt'  'dinpkt'  'sjit'  'djit'  'swin'  'stcpb'  'dtcpb'  'dwin'  'tcprtt'  'synack'  'ackdat'  'smean'  'dmean'  'trans_depth'  'response_body_len'  'ct_srv_src'  'ct_state_ttl'  'ct_dst_ltm'  'ct_src_dport_ltm'  'ct_dst_sport_ltm'  'ct_dst_src_ltm'  'is_ftp_login'  'ct_ftp_cmd'  'ct_flw_http_mthd'  'ct_src_ltm'  'ct_srv_dst'  'is_sm_ips_ports'  'attack_cat'  'label'  "
          ]
        }
      ],
      "source": [
        "file_path='/Users/anguschen/Library/CloudStorage/OneDrive-國立宜蘭大學/無線網路/UNSW_NB15/'\n",
        "\n",
        "# 讀取CSV檔案\n",
        "data_train = pd.read_csv(file_path + 'training.csv')\n",
        "data_test = pd.read_csv(file_path + 'testing.csv')\n",
        "\n",
        "# 列出 dataset 的資訊\n",
        "print(\"Training Data :\", data_train.shape)\n",
        "for column in data_train.columns:\n",
        "    unique_values = data_train[column].unique()\n",
        "    print(f\"'{column}' \",end=\" \")\n",
        "\n",
        "print(\"\\n\", \"Testing Data :\", data_test.shape)\n",
        "for column in data_test.columns:\n",
        "    unique_values = data_test[column].unique()\n",
        "    print(f\"'{column}' \",end=\" \")"
      ]
    },
    {
      "cell_type": "code",
      "execution_count": 3,
      "metadata": {
        "colab": {
          "base_uri": "https://localhost:8080/"
        },
        "id": "dnm6K6xzKhkk",
        "outputId": "0971f79e-67ee-45b0-f654-671343d05c8f"
      },
      "outputs": [
        {
          "name": "stdout",
          "output_type": "stream",
          "text": [
            "Training Data : (82332, 44)\n",
            "Testing Data : (175341, 44)\n"
          ]
        }
      ],
      "source": [
        "# 刪除 'id' 列\n",
        "for data in [data_train, data_test]:\n",
        "    if 'id' in data.columns:\n",
        "        data.drop(columns=['id'], inplace=True)\n",
        "\n",
        "print(\"Training Data :\", data_train.shape)\n",
        "print(\"Testing Data :\", data_test.shape)"
      ]
    },
    {
      "cell_type": "code",
      "execution_count": 4,
      "metadata": {
        "colab": {
          "base_uri": "https://localhost:8080/"
        },
        "id": "68IaCVswIi9v",
        "outputId": "d1603fc6-7b90-402c-fe11-cdfe4519a825"
      },
      "outputs": [
        {
          "name": "stdout",
          "output_type": "stream",
          "text": [
            "Merged Data : (257673, 44)\n"
          ]
        }
      ],
      "source": [
        "# 合併訓練集和測試集\n",
        "merged_data = pd.concat([data_train, data_test], ignore_index=True)\n",
        "print(\"Merged Data :\", merged_data.shape)"
      ]
    },
    {
      "cell_type": "code",
      "execution_count": 5,
      "metadata": {
        "colab": {
          "base_uri": "https://localhost:8080/"
        },
        "id": "E2affS-UIi9w",
        "outputId": "bbdd01fb-97c3-4f8c-a9f4-536d8adec64b"
      },
      "outputs": [
        {
          "name": "stdout",
          "output_type": "stream",
          "text": [
            "<class 'pandas.core.frame.DataFrame'>\n",
            "RangeIndex: 257673 entries, 0 to 257672\n",
            "Columns: 245 entries, dur to attack_cat_Worms\n",
            "dtypes: bool(167), float64(22), int64(56)\n",
            "memory usage: 194.4 MB\n",
            "None\n",
            "<class 'pandas.core.series.Series'>\n",
            "RangeIndex: 257673 entries, 0 to 257672\n",
            "Series name: label\n",
            "Non-Null Count   Dtype\n",
            "--------------   -----\n",
            "257673 non-null  int64\n",
            "dtypes: int64(1)\n",
            "memory usage: 2.0 MB\n",
            "None\n"
          ]
        }
      ],
      "source": [
        "# 假設 'label' 目標屬性\n",
        "X = merged_data.drop(columns=['label'])\n",
        "y = merged_data['label']\n",
        "\n",
        "# 選擇要進行 One-Hot Encoding 的類別型特徵\n",
        "categories = ['proto', 'service', 'state', 'attack_cat']\n",
        "\n",
        "# 使用 get_dummies() 函數對類別型特徵進行 One-Hot Encoding\n",
        "data_encoded = pd.get_dummies(X, columns=categories)\n",
        "\n",
        "# 重新組合特徵\n",
        "X = pd.concat([X.drop(columns=categories), data_encoded], axis=1)\n",
        "\n",
        "print(X.info())\n",
        "print(y.info())"
      ]
    },
    {
      "cell_type": "code",
      "execution_count": 6,
      "metadata": {
        "colab": {
          "base_uri": "https://localhost:8080/"
        },
        "id": "ZqvY3ZyKIi9w",
        "outputId": "d311c313-ce0b-4832-ceb8-2be3a16550e7"
      },
      "outputs": [
        {
          "name": "stdout",
          "output_type": "stream",
          "text": [
            "        dur     spkts     dpkts    sbytes    dbytes      rate      sttl  \\\n",
            "0 -0.208678 -0.130765 -0.165331 -0.046480 -0.098409 -0.002151  0.722026   \n",
            "1 -0.208679 -0.130765 -0.165331 -0.039194 -0.098409  0.210460  0.722026   \n",
            "2 -0.208679 -0.130765 -0.165331 -0.043188 -0.098409  0.678204  0.722026   \n",
            "3 -0.208679 -0.130765 -0.165331 -0.044155 -0.098409  0.470318  0.722026   \n",
            "4 -0.208678 -0.130765 -0.165331 -0.037100 -0.098409  0.054546  0.722026   \n",
            "\n",
            "       dttl     sload    dload  ...  attack_cat_Analysis  attack_cat_Backdoor  \\\n",
            "0 -0.751628  0.590935 -0.27285  ...            -0.102461            -0.095504   \n",
            "1 -0.751628  4.363255 -0.27285  ...            -0.102461            -0.095504   \n",
            "2 -0.751628  4.220037 -0.27285  ...            -0.102461            -0.095504   \n",
            "3 -0.751628  2.850314 -0.27285  ...            -0.102461            -0.095504   \n",
            "4 -0.751628  4.198501 -0.27285  ...            -0.102461            -0.095504   \n",
            "\n",
            "   attack_cat_DoS  attack_cat_Exploits  attack_cat_Fuzzers  \\\n",
            "0       -0.260317            -0.457047           -0.322288   \n",
            "1       -0.260317            -0.457047           -0.322288   \n",
            "2       -0.260317            -0.457047           -0.322288   \n",
            "3       -0.260317            -0.457047           -0.322288   \n",
            "4       -0.260317            -0.457047           -0.322288   \n",
            "\n",
            "   attack_cat_Generic  attack_cat_Normal  attack_cat_Reconnaissance  \\\n",
            "0           -0.544177           1.330668                  -0.239578   \n",
            "1           -0.544177           1.330668                  -0.239578   \n",
            "2           -0.544177           1.330668                  -0.239578   \n",
            "3           -0.544177           1.330668                  -0.239578   \n",
            "4           -0.544177           1.330668                  -0.239578   \n",
            "\n",
            "   attack_cat_Shellcode  attack_cat_Worms  \n",
            "0             -0.076802         -0.025995  \n",
            "1             -0.076802         -0.025995  \n",
            "2             -0.076802         -0.025995  \n",
            "3             -0.076802         -0.025995  \n",
            "4             -0.076802         -0.025995  \n",
            "\n",
            "[5 rows x 245 columns]\n",
            "<class 'numpy.ndarray'>\n",
            "(257673, 245)\n"
          ]
        }
      ],
      "source": [
        "# 標準化資料\n",
        "scaler = StandardScaler()\n",
        "X_scaled = scaler.fit_transform(X)\n",
        "\n",
        "# 顯示標準化後的部分資料以確認結果\n",
        "print(pd.DataFrame(X_scaled, columns=X.columns).head())\n",
        "print(type(X_scaled))\n",
        "print(X_scaled.shape)"
      ]
    },
    {
      "cell_type": "code",
      "execution_count": 7,
      "metadata": {
        "colab": {
          "base_uri": "https://localhost:8080/",
          "height": 75
        },
        "id": "USdPvtZ8Ii9x",
        "outputId": "2683c1a4-bfca-45df-be02-6aa721265095"
      },
      "outputs": [
        {
          "data": {
            "text/html": [
              "<style>#sk-container-id-1 {color: black;}#sk-container-id-1 pre{padding: 0;}#sk-container-id-1 div.sk-toggleable {background-color: white;}#sk-container-id-1 label.sk-toggleable__label {cursor: pointer;display: block;width: 100%;margin-bottom: 0;padding: 0.3em;box-sizing: border-box;text-align: center;}#sk-container-id-1 label.sk-toggleable__label-arrow:before {content: \"▸\";float: left;margin-right: 0.25em;color: #696969;}#sk-container-id-1 label.sk-toggleable__label-arrow:hover:before {color: black;}#sk-container-id-1 div.sk-estimator:hover label.sk-toggleable__label-arrow:before {color: black;}#sk-container-id-1 div.sk-toggleable__content {max-height: 0;max-width: 0;overflow: hidden;text-align: left;background-color: #f0f8ff;}#sk-container-id-1 div.sk-toggleable__content pre {margin: 0.2em;color: black;border-radius: 0.25em;background-color: #f0f8ff;}#sk-container-id-1 input.sk-toggleable__control:checked~div.sk-toggleable__content {max-height: 200px;max-width: 100%;overflow: auto;}#sk-container-id-1 input.sk-toggleable__control:checked~label.sk-toggleable__label-arrow:before {content: \"▾\";}#sk-container-id-1 div.sk-estimator input.sk-toggleable__control:checked~label.sk-toggleable__label {background-color: #d4ebff;}#sk-container-id-1 div.sk-label input.sk-toggleable__control:checked~label.sk-toggleable__label {background-color: #d4ebff;}#sk-container-id-1 input.sk-hidden--visually {border: 0;clip: rect(1px 1px 1px 1px);clip: rect(1px, 1px, 1px, 1px);height: 1px;margin: -1px;overflow: hidden;padding: 0;position: absolute;width: 1px;}#sk-container-id-1 div.sk-estimator {font-family: monospace;background-color: #f0f8ff;border: 1px dotted black;border-radius: 0.25em;box-sizing: border-box;margin-bottom: 0.5em;}#sk-container-id-1 div.sk-estimator:hover {background-color: #d4ebff;}#sk-container-id-1 div.sk-parallel-item::after {content: \"\";width: 100%;border-bottom: 1px solid gray;flex-grow: 1;}#sk-container-id-1 div.sk-label:hover label.sk-toggleable__label {background-color: #d4ebff;}#sk-container-id-1 div.sk-serial::before {content: \"\";position: absolute;border-left: 1px solid gray;box-sizing: border-box;top: 0;bottom: 0;left: 50%;z-index: 0;}#sk-container-id-1 div.sk-serial {display: flex;flex-direction: column;align-items: center;background-color: white;padding-right: 0.2em;padding-left: 0.2em;position: relative;}#sk-container-id-1 div.sk-item {position: relative;z-index: 1;}#sk-container-id-1 div.sk-parallel {display: flex;align-items: stretch;justify-content: center;background-color: white;position: relative;}#sk-container-id-1 div.sk-item::before, #sk-container-id-1 div.sk-parallel-item::before {content: \"\";position: absolute;border-left: 1px solid gray;box-sizing: border-box;top: 0;bottom: 0;left: 50%;z-index: -1;}#sk-container-id-1 div.sk-parallel-item {display: flex;flex-direction: column;z-index: 1;position: relative;background-color: white;}#sk-container-id-1 div.sk-parallel-item:first-child::after {align-self: flex-end;width: 50%;}#sk-container-id-1 div.sk-parallel-item:last-child::after {align-self: flex-start;width: 50%;}#sk-container-id-1 div.sk-parallel-item:only-child::after {width: 0;}#sk-container-id-1 div.sk-dashed-wrapped {border: 1px dashed gray;margin: 0 0.4em 0.5em 0.4em;box-sizing: border-box;padding-bottom: 0.4em;background-color: white;}#sk-container-id-1 div.sk-label label {font-family: monospace;font-weight: bold;display: inline-block;line-height: 1.2em;}#sk-container-id-1 div.sk-label-container {text-align: center;}#sk-container-id-1 div.sk-container {/* jupyter's `normalize.less` sets `[hidden] { display: none; }` but bootstrap.min.css set `[hidden] { display: none !important; }` so we also need the `!important` here to be able to override the default hidden behavior on the sphinx rendered scikit-learn.org. See: https://github.com/scikit-learn/scikit-learn/issues/21755 */display: inline-block !important;position: relative;}#sk-container-id-1 div.sk-text-repr-fallback {display: none;}</style><div id=\"sk-container-id-1\" class=\"sk-top-container\"><div class=\"sk-text-repr-fallback\"><pre>SVC(random_state=42)</pre><b>In a Jupyter environment, please rerun this cell to show the HTML representation or trust the notebook. <br />On GitHub, the HTML representation is unable to render, please try loading this page with nbviewer.org.</b></div><div class=\"sk-container\" hidden><div class=\"sk-item\"><div class=\"sk-estimator sk-toggleable\"><input class=\"sk-toggleable__control sk-hidden--visually\" id=\"sk-estimator-id-1\" type=\"checkbox\" checked><label for=\"sk-estimator-id-1\" class=\"sk-toggleable__label sk-toggleable__label-arrow\">SVC</label><div class=\"sk-toggleable__content\"><pre>SVC(random_state=42)</pre></div></div></div></div></div>"
            ],
            "text/plain": [
              "SVC(random_state=42)"
            ]
          },
          "execution_count": 7,
          "metadata": {},
          "output_type": "execute_result"
        }
      ],
      "source": [
        "# 將資料分割為訓練集和測試集\n",
        "X_train, X_test, y_train, y_test = train_test_split(X_scaled, y, test_size=0.2, random_state=42)\n",
        "\n",
        "# 初始化核支持向量機（Kernel SVM）模型，這裡使用 RBF 核函數\n",
        "svm_model = SVC(kernel='rbf', random_state=42)\n",
        "\n",
        "# 訓練核支持向量機模型\n",
        "svm_model.fit(X_train, y_train)"
      ]
    },
    {
      "cell_type": "code",
      "execution_count": 8,
      "metadata": {
        "id": "VslIlLW0Ii9y"
      },
      "outputs": [
        {
          "name": "stdout",
          "output_type": "stream",
          "text": [
            "Accuracy Scores: 0.99983, 0.99990, 0.99983, 0.99985, 0.99971\n",
            "Average 5-fold cross-validation accuracy: 0.99983\n",
            "\n",
            "Precision Scores: 0.99977, 0.99996, 0.99985, 0.99985, 0.99962\n",
            "Average 5-fold cross-validation precision: 0.99981\n",
            "\n",
            "Recall Scores: 0.99996, 0.99989, 0.99989, 0.99992, 0.99992\n",
            "Average 5-fold cross-validation recall: 0.99992\n",
            "\n",
            "F1 Scores: 0.99987, 0.99992, 0.99987, 0.99989, 0.99977\n",
            "Average 5-fold cross-validation f1: 0.99986\n",
            "\n",
            "Roc_auc Scores: 1.00000, 1.00000, 1.00000, 1.00000, 1.00000\n",
            "Average 5-fold cross-validation roc_auc: 1.00000\n",
            "\n"
          ]
        }
      ],
      "source": [
        "# 進行 K-fold cross-validation for each evaluation metric\n",
        "scoring_metrics = ['accuracy', 'precision', 'recall', 'f1', 'roc_auc']\n",
        "num_folds = 5\n",
        "\n",
        "for metric in scoring_metrics:\n",
        "    cv_scores = cross_val_score(svm_model, X_train, y_train, cv=num_folds, scoring=metric)\n",
        "    avg_score = np.mean(cv_scores)\n",
        "    print(f\"{metric.capitalize()} Scores: {', '.join([f'{score:.5f}' for score in cv_scores])}\")\n",
        "    print(f\"Average {num_folds}-fold cross-validation {metric}: {avg_score:.5f}\\n\")"
      ]
    },
    {
      "cell_type": "code",
      "execution_count": 9,
      "metadata": {
        "id": "jMO4K6z2Ii9y"
      },
      "outputs": [
        {
          "name": "stdout",
          "output_type": "stream",
          "text": [
            "Testing performance:\n",
            "\n",
            "Accuracy: 99.9787% \n",
            "\n",
            "Precision: 99.9757% \n",
            "\n",
            "Recall: 99.9909% \n",
            "\n",
            "F1-Score: 99.9833% \n",
            "\n",
            "ROC AUC: 99.9740% \n",
            "\n",
            "Confusion Matrix:\n",
            " [[18667     8]\n",
            " [    3 32857]]\n"
          ]
        }
      ],
      "source": [
        "# 預測測試集\n",
        "pred_test = svm_model.predict(X_test)\n",
        "\n",
        "# 計算各種指標\n",
        "test_accuracy = accuracy_score(y_test, pred_test)\n",
        "test_precision = precision_score(y_test, pred_test)\n",
        "test_recall = recall_score(y_test, pred_test)\n",
        "test_f1 = f1_score(y_test, pred_test)\n",
        "test_roc_auc = roc_auc_score(y_test, pred_test)\n",
        "test_conf_matrix = confusion_matrix(y_test, pred_test)\n",
        "\n",
        "# 顯示測試集的模型效能指標\n",
        "print(\"Testing performance:\\n\")\n",
        "print(f\"Accuracy: {test_accuracy*100:.4f}%\", \"\\n\")\n",
        "print(f\"Precision: {test_precision*100:.4f}%\", \"\\n\")\n",
        "print(f\"Recall: {test_recall*100:.4f}%\", \"\\n\")\n",
        "print(f\"F1-Score: {test_f1*100:.4f}%\", \"\\n\")\n",
        "print(f\"ROC AUC: {test_roc_auc*100:.4f}%\", \"\\n\")\n",
        "print(\"Confusion Matrix:\\n\", test_conf_matrix)"
      ]
    },
    {
      "cell_type": "code",
      "execution_count": 10,
      "metadata": {
        "id": "Bmz2qss8Ii9z"
      },
      "outputs": [
        {
          "name": "stdout",
          "output_type": "stream",
          "text": [
            "Model Saved!\n"
          ]
        }
      ],
      "source": [
        "# 儲存模型\n",
        "save = input(\"儲存模型?(y/n): \")\n",
        "\n",
        "if save.lower() == 'y':\n",
        "    joblib.dump(svm_model, file_path + 'kernel_svm_model.pkl')\n",
        "    print(\"Model Saved!\")\n",
        "elif save.lower() == 'n':\n",
        "    print(\"Done!\")\n",
        "else:\n",
        "    print(\"Invalid input. Not Saved.\")"
      ]
    }
  ],
  "metadata": {
    "accelerator": "GPU",
    "colab": {
      "provenance": []
    },
    "kernelspec": {
      "display_name": "Python 3",
      "name": "python3"
    },
    "language_info": {
      "codemirror_mode": {
        "name": "ipython",
        "version": 3
      },
      "file_extension": ".py",
      "mimetype": "text/x-python",
      "name": "python",
      "nbconvert_exporter": "python",
      "pygments_lexer": "ipython3",
      "version": "3.8.18"
    }
  },
  "nbformat": 4,
  "nbformat_minor": 0
}

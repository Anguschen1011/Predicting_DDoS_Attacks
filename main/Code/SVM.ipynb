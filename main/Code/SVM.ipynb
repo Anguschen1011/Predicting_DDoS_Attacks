{
  "cells": [
    {
      "cell_type": "code",
      "execution_count": 1,
      "metadata": {
        "colab": {
          "base_uri": "https://localhost:8080/"
        },
        "id": "p4dXWYWCT1jp",
        "outputId": "51fb5d07-1d5d-46cc-bcae-57ea04e9a364"
      },
      "outputs": [
        {
          "name": "stdout",
          "output_type": "stream",
          "text": [
            "Training Data : (82332, 45)\n",
            "'id'  'dur'  'proto'  'service'  'state'  'spkts'  'dpkts'  'sbytes'  'dbytes'  'rate'  'sttl'  'dttl'  'sload'  'dload'  'sloss'  'dloss'  'sinpkt'  'dinpkt'  'sjit'  'djit'  'swin'  'stcpb'  'dtcpb'  'dwin'  'tcprtt'  'synack'  'ackdat'  'smean'  'dmean'  'trans_depth'  'response_body_len'  'ct_srv_src'  'ct_state_ttl'  'ct_dst_ltm'  'ct_src_dport_ltm'  'ct_dst_sport_ltm'  'ct_dst_src_ltm'  'is_ftp_login'  'ct_ftp_cmd'  'ct_flw_http_mthd'  'ct_src_ltm'  'ct_srv_dst'  'is_sm_ips_ports'  'attack_cat'  'label'  \n",
            " Testing Data : (175341, 45)\n",
            "'id'  'dur'  'proto'  'service'  'state'  'spkts'  'dpkts'  'sbytes'  'dbytes'  'rate'  'sttl'  'dttl'  'sload'  'dload'  'sloss'  'dloss'  'sinpkt'  'dinpkt'  'sjit'  'djit'  'swin'  'stcpb'  'dtcpb'  'dwin'  'tcprtt'  'synack'  'ackdat'  'smean'  'dmean'  'trans_depth'  'response_body_len'  'ct_srv_src'  'ct_state_ttl'  'ct_dst_ltm'  'ct_src_dport_ltm'  'ct_dst_sport_ltm'  'ct_dst_src_ltm'  'is_ftp_login'  'ct_ftp_cmd'  'ct_flw_http_mthd'  'ct_src_ltm'  'ct_srv_dst'  'is_sm_ips_ports'  'attack_cat'  'label'  "
          ]
        }
      ],
      "source": [
        "import pandas as pd\n",
        "\n",
        "file_path='/Users/anguschen/Library/CloudStorage/OneDrive-國立宜蘭大學/無線網路/UNSW_NB15/'\n",
        "\n",
        "# 讀取CSV檔案\n",
        "data_train = pd.read_csv(file_path + 'training.csv')\n",
        "data_test = pd.read_csv(file_path + 'testing.csv')\n",
        "\n",
        "# 列出 dataset 的資訊\n",
        "print(\"Training Data :\", data_train.shape)\n",
        "for column in data_train.columns:\n",
        "    unique_values = data_train[column].unique()\n",
        "    print(f\"'{column}' \",end=\" \")\n",
        "\n",
        "print(\"\\n\", \"Testing Data :\", data_test.shape)\n",
        "for column in data_test.columns:\n",
        "    unique_values = data_test[column].unique()\n",
        "    print(f\"'{column}' \",end=\" \")\n"
      ]
    },
    {
      "cell_type": "code",
      "execution_count": 2,
      "metadata": {
        "colab": {
          "base_uri": "https://localhost:8080/"
        },
        "id": "INknYYZqX8er",
        "outputId": "201bc927-9321-4da9-93c9-9275b8d01606"
      },
      "outputs": [
        {
          "name": "stdout",
          "output_type": "stream",
          "text": [
            "'train_id' deleted\n",
            "Training Data : (82332, 44)\n",
            "\n",
            " 'test_id' deleted\n",
            "Testing Data : (175341, 44)\n"
          ]
        }
      ],
      "source": [
        "if 'id' in data_train.columns:\n",
        "    data_train.drop(columns=['id'], inplace=True)\n",
        "    print(\"'train_id' deleted\")\n",
        "    print(\"Training Data :\", data_train.shape)\n",
        "else:\n",
        "    print(\"'train_iid' column does not exist\")\n",
        "if 'id' in data_test.columns:\n",
        "    data_test.drop(columns=['id'], inplace=True)\n",
        "    print(\"\\n\", \"'test_id' deleted\")\n",
        "    print(\"Testing Data :\", data_test.shape)\n",
        "else:\n",
        "    print(\"\\n\", \"'test_id' column does not exist\")"
      ]
    },
    {
      "cell_type": "code",
      "execution_count": 3,
      "metadata": {
        "colab": {
          "base_uri": "https://localhost:8080/"
        },
        "id": "Okc-fSjlbIH9",
        "outputId": "cef51282-dc17-4f88-a3d5-260739eeac5e"
      },
      "outputs": [
        {
          "name": "stdout",
          "output_type": "stream",
          "text": [
            "Data_info： (257673, 44)\n",
            "<class 'pandas.core.frame.DataFrame'>\n",
            "RangeIndex: 257673 entries, 0 to 257672\n",
            "Data columns (total 44 columns):\n",
            " #   Column             Non-Null Count   Dtype  \n",
            "---  ------             --------------   -----  \n",
            " 0   dur                257673 non-null  float64\n",
            " 1   proto              257673 non-null  object \n",
            " 2   service            257673 non-null  object \n",
            " 3   state              257673 non-null  object \n",
            " 4   spkts              257673 non-null  int64  \n",
            " 5   dpkts              257673 non-null  int64  \n",
            " 6   sbytes             257673 non-null  int64  \n",
            " 7   dbytes             257673 non-null  int64  \n",
            " 8   rate               257673 non-null  float64\n",
            " 9   sttl               257673 non-null  int64  \n",
            " 10  dttl               257673 non-null  int64  \n",
            " 11  sload              257673 non-null  float64\n",
            " 12  dload              257673 non-null  float64\n",
            " 13  sloss              257673 non-null  int64  \n",
            " 14  dloss              257673 non-null  int64  \n",
            " 15  sinpkt             257673 non-null  float64\n",
            " 16  dinpkt             257673 non-null  float64\n",
            " 17  sjit               257673 non-null  float64\n",
            " 18  djit               257673 non-null  float64\n",
            " 19  swin               257673 non-null  int64  \n",
            " 20  stcpb              257673 non-null  int64  \n",
            " 21  dtcpb              257673 non-null  int64  \n",
            " 22  dwin               257673 non-null  int64  \n",
            " 23  tcprtt             257673 non-null  float64\n",
            " 24  synack             257673 non-null  float64\n",
            " 25  ackdat             257673 non-null  float64\n",
            " 26  smean              257673 non-null  int64  \n",
            " 27  dmean              257673 non-null  int64  \n",
            " 28  trans_depth        257673 non-null  int64  \n",
            " 29  response_body_len  257673 non-null  int64  \n",
            " 30  ct_srv_src         257673 non-null  int64  \n",
            " 31  ct_state_ttl       257673 non-null  int64  \n",
            " 32  ct_dst_ltm         257673 non-null  int64  \n",
            " 33  ct_src_dport_ltm   257673 non-null  int64  \n",
            " 34  ct_dst_sport_ltm   257673 non-null  int64  \n",
            " 35  ct_dst_src_ltm     257673 non-null  int64  \n",
            " 36  is_ftp_login       257673 non-null  int64  \n",
            " 37  ct_ftp_cmd         257673 non-null  int64  \n",
            " 38  ct_flw_http_mthd   257673 non-null  int64  \n",
            " 39  ct_src_ltm         257673 non-null  int64  \n",
            " 40  ct_srv_dst         257673 non-null  int64  \n",
            " 41  is_sm_ips_ports    257673 non-null  int64  \n",
            " 42  attack_cat         257673 non-null  object \n",
            " 43  label              257673 non-null  int64  \n",
            "dtypes: float64(11), int64(29), object(4)\n",
            "memory usage: 86.5+ MB\n",
            "None\n"
          ]
        }
      ],
      "source": [
        "# 合併訓練集和測試集\n",
        "merged_data = pd.concat([data_train, data_test], ignore_index=True)\n",
        "\n",
        "# 儲存合併後的資料\n",
        "#merged_data.to_csv(file_path +'merged_data.csv', index=False)\n",
        "\n",
        "# 列出 merged_data 資料集的行數和列數\n",
        "print(\"Data_info：\", merged_data.shape)\n",
        "\n",
        "print(merged_data.info())"
      ]
    },
    {
      "cell_type": "code",
      "execution_count": 4,
      "metadata": {
        "colab": {
          "base_uri": "https://localhost:8080/"
        },
        "id": "P1j5COEVnnKd",
        "outputId": "94622e08-abe3-4f03-b033-74437be30f15"
      },
      "outputs": [
        {
          "name": "stdout",
          "output_type": "stream",
          "text": [
            "<class 'pandas.core.frame.DataFrame'>\n",
            "RangeIndex: 257673 entries, 0 to 257672\n",
            "Columns: 245 entries, dur to attack_cat_Worms\n",
            "dtypes: bool(167), float64(22), int64(56)\n",
            "memory usage: 194.4 MB\n",
            "None\n",
            "<class 'pandas.core.series.Series'>\n",
            "RangeIndex: 257673 entries, 0 to 257672\n",
            "Series name: label\n",
            "Non-Null Count   Dtype\n",
            "--------------   -----\n",
            "257673 non-null  int64\n",
            "dtypes: int64(1)\n",
            "memory usage: 2.0 MB\n",
            "None\n"
          ]
        }
      ],
      "source": [
        "# 假設 'label' 目標屬性\n",
        "X = merged_data.drop(columns=['label'])\n",
        "y = merged_data['label']\n",
        "\n",
        "# 選擇要進行 One-Hot Encoding 的類別型特徵\n",
        "categories = ['proto', 'service', 'state', 'attack_cat']\n",
        "\n",
        "# 使用 get_dummies() 函數對類別型特徵進行 One-Hot Encoding\n",
        "data_encoded = pd.get_dummies(X, columns=categories)\n",
        "\n",
        "X.drop(columns=categories, inplace=True)\n",
        "\n",
        "# 將 One-Hot Encoding 後的資料加回到 merged_data 中\n",
        "X = pd.concat([X, data_encoded], axis=1)\n",
        "\n",
        "# 顯示 merged_data 的部分資料以確認結果\n",
        "print(X.info())\n",
        "print(y.info())"
      ]
    },
    {
      "cell_type": "code",
      "execution_count": 5,
      "metadata": {
        "colab": {
          "base_uri": "https://localhost:8080/"
        },
        "id": "AtufMDu1Ktgi",
        "outputId": "cdc54d85-1505-427a-9e86-73ceb4408d0e"
      },
      "outputs": [
        {
          "name": "stdout",
          "output_type": "stream",
          "text": [
            "        dur     spkts     dpkts    sbytes    dbytes      rate      sttl  \\\n",
            "0 -0.208678 -0.130765 -0.165331 -0.046480 -0.098409 -0.002151  0.722026   \n",
            "1 -0.208679 -0.130765 -0.165331 -0.039194 -0.098409  0.210460  0.722026   \n",
            "2 -0.208679 -0.130765 -0.165331 -0.043188 -0.098409  0.678204  0.722026   \n",
            "3 -0.208679 -0.130765 -0.165331 -0.044155 -0.098409  0.470318  0.722026   \n",
            "4 -0.208678 -0.130765 -0.165331 -0.037100 -0.098409  0.054546  0.722026   \n",
            "\n",
            "       dttl     sload    dload  ...  attack_cat_Analysis  attack_cat_Backdoor  \\\n",
            "0 -0.751628  0.590935 -0.27285  ...            -0.102461            -0.095504   \n",
            "1 -0.751628  4.363255 -0.27285  ...            -0.102461            -0.095504   \n",
            "2 -0.751628  4.220037 -0.27285  ...            -0.102461            -0.095504   \n",
            "3 -0.751628  2.850314 -0.27285  ...            -0.102461            -0.095504   \n",
            "4 -0.751628  4.198501 -0.27285  ...            -0.102461            -0.095504   \n",
            "\n",
            "   attack_cat_DoS  attack_cat_Exploits  attack_cat_Fuzzers  \\\n",
            "0       -0.260317            -0.457047           -0.322288   \n",
            "1       -0.260317            -0.457047           -0.322288   \n",
            "2       -0.260317            -0.457047           -0.322288   \n",
            "3       -0.260317            -0.457047           -0.322288   \n",
            "4       -0.260317            -0.457047           -0.322288   \n",
            "\n",
            "   attack_cat_Generic  attack_cat_Normal  attack_cat_Reconnaissance  \\\n",
            "0           -0.544177           1.330668                  -0.239578   \n",
            "1           -0.544177           1.330668                  -0.239578   \n",
            "2           -0.544177           1.330668                  -0.239578   \n",
            "3           -0.544177           1.330668                  -0.239578   \n",
            "4           -0.544177           1.330668                  -0.239578   \n",
            "\n",
            "   attack_cat_Shellcode  attack_cat_Worms  \n",
            "0             -0.076802         -0.025995  \n",
            "1             -0.076802         -0.025995  \n",
            "2             -0.076802         -0.025995  \n",
            "3             -0.076802         -0.025995  \n",
            "4             -0.076802         -0.025995  \n",
            "\n",
            "[5 rows x 245 columns]\n",
            "<class 'numpy.ndarray'>\n",
            "(257673, 245)\n"
          ]
        }
      ],
      "source": [
        "from sklearn.preprocessing import StandardScaler\n",
        "\n",
        "# 標準化資料\n",
        "scaler = StandardScaler()\n",
        "X_scaled = scaler.fit_transform(X)  # 對特徵進行標準化\n",
        "\n",
        "# 顯示標準化後的部分資料以確認結果\n",
        "print(pd.DataFrame(X_scaled, columns=X.columns).head())\n",
        "print(type(X_scaled))\n",
        "print(X_scaled.shape)"
      ]
    },
    {
      "cell_type": "code",
      "execution_count": 6,
      "metadata": {
        "colab": {
          "base_uri": "https://localhost:8080/"
        },
        "id": "Z3ASt87JrXRo",
        "outputId": "d0c4d19f-163d-462e-f6d2-977ed097dd00"
      },
      "outputs": [
        {
          "name": "stdout",
          "output_type": "stream",
          "text": [
            "Iteration 1/10\n"
          ]
        },
        {
          "name": "stderr",
          "output_type": "stream",
          "text": [
            "Training: 100%|██████████| 1611/1611 [00:03<00:00, 500.12it/s]\n"
          ]
        },
        {
          "name": "stdout",
          "output_type": "stream",
          "text": [
            "Iteration 2/10\n"
          ]
        },
        {
          "name": "stderr",
          "output_type": "stream",
          "text": [
            "Training: 100%|██████████| 1611/1611 [00:03<00:00, 498.19it/s]\n"
          ]
        },
        {
          "name": "stdout",
          "output_type": "stream",
          "text": [
            "Iteration 3/10\n"
          ]
        },
        {
          "name": "stderr",
          "output_type": "stream",
          "text": [
            "Training: 100%|██████████| 1611/1611 [00:03<00:00, 482.53it/s]\n"
          ]
        },
        {
          "name": "stdout",
          "output_type": "stream",
          "text": [
            "Iteration 4/10\n"
          ]
        },
        {
          "name": "stderr",
          "output_type": "stream",
          "text": [
            "Training: 100%|██████████| 1611/1611 [00:03<00:00, 489.89it/s]\n"
          ]
        },
        {
          "name": "stdout",
          "output_type": "stream",
          "text": [
            "Iteration 5/10\n"
          ]
        },
        {
          "name": "stderr",
          "output_type": "stream",
          "text": [
            "Training: 100%|██████████| 1611/1611 [00:03<00:00, 498.07it/s]\n"
          ]
        },
        {
          "name": "stdout",
          "output_type": "stream",
          "text": [
            "Iteration 6/10\n"
          ]
        },
        {
          "name": "stderr",
          "output_type": "stream",
          "text": [
            "Training: 100%|██████████| 1611/1611 [00:03<00:00, 493.10it/s]\n"
          ]
        },
        {
          "name": "stdout",
          "output_type": "stream",
          "text": [
            "Iteration 7/10\n"
          ]
        },
        {
          "name": "stderr",
          "output_type": "stream",
          "text": [
            "Training: 100%|██████████| 1611/1611 [00:03<00:00, 458.88it/s]\n"
          ]
        },
        {
          "name": "stdout",
          "output_type": "stream",
          "text": [
            "Iteration 8/10\n"
          ]
        },
        {
          "name": "stderr",
          "output_type": "stream",
          "text": [
            "Training: 100%|██████████| 1611/1611 [00:03<00:00, 495.09it/s]\n"
          ]
        },
        {
          "name": "stdout",
          "output_type": "stream",
          "text": [
            "Iteration 9/10\n"
          ]
        },
        {
          "name": "stderr",
          "output_type": "stream",
          "text": [
            "Training: 100%|██████████| 1611/1611 [00:03<00:00, 493.15it/s]\n"
          ]
        },
        {
          "name": "stdout",
          "output_type": "stream",
          "text": [
            "Iteration 10/10\n"
          ]
        },
        {
          "name": "stderr",
          "output_type": "stream",
          "text": [
            "Training: 100%|██████████| 1611/1611 [00:03<00:00, 479.67it/s]\n"
          ]
        }
      ],
      "source": [
        "import numpy as np\n",
        "from tqdm import tqdm\n",
        "from sklearn.model_selection import train_test_split\n",
        "from sklearn.linear_model import SGDClassifier\n",
        "from sklearn.preprocessing import StandardScaler\n",
        "\n",
        "# 將資料分割為訓練集和測試集（這裡以 80% 資料作為訓練集，20% 作為測試集）\n",
        "X_train, X_test, y_train, y_test = train_test_split(X_scaled, y, test_size=0.2, random_state=42)\n",
        "\n",
        "# 初始化SGDClassifier模型\n",
        "svm_model = SGDClassifier(loss='hinge', alpha=0.001, random_state=42, max_iter=1000)\n",
        "\n",
        "# 定義小批次大小和迭代次數\n",
        "batch_size = 128\n",
        "num_iterations = 10\n",
        "\n",
        "train_scores = []\n",
        "test_scores = []\n",
        "\n",
        "# 將標準化後的資料集分為小批次並使用Mini-batch進行迭代訓練\n",
        "num_samples = len(X_train)\n",
        "\n",
        "for iteration in range(num_iterations):\n",
        "    print(f\"Iteration {iteration + 1}/{num_iterations}\")\n",
        "    for i in tqdm(range(0, num_samples, batch_size), desc='Training'):\n",
        "        X_batch = X_train[i:i + batch_size]\n",
        "        y_batch = y_train[i:i + batch_size]\n",
        "        svm_model.partial_fit(X_batch, y_batch, classes=np.unique(y))\n",
        "\n",
        "    train_score = svm_model.score(X_train, y_train)  # 計算訓練集的性能指標\n",
        "    test_score = svm_model.score(X_test, y_test)     # 計算測試集的性能指標\n",
        "    train_scores.append(train_score)\n",
        "    test_scores.append(test_score)"
      ]
    },
    {
      "cell_type": "code",
      "execution_count": 7,
      "metadata": {
        "colab": {
          "base_uri": "https://localhost:8080/",
          "height": 564
        },
        "id": "tMUfw06N6aY2",
        "outputId": "f551c153-006b-45ea-94aa-bb3aff557c35"
      },
      "outputs": [
        {
          "data": {
            "image/png": "[encoded data removed]",
            "text/plain": [
              "<Figure size 800x600 with 1 Axes>"
            ]
          },
          "metadata": {},
          "output_type": "display_data"
        }
      ],
      "source": [
        "import matplotlib.pyplot as plt\n",
        "\n",
        "# 繪製學習曲線\n",
        "plt.figure(figsize=(8, 6))\n",
        "plt.plot(range(1, num_iterations + 1), train_scores, label='Training Set')\n",
        "plt.plot(range(1, num_iterations + 1), test_scores, label='Test Set')\n",
        "plt.xlabel('Iterations')\n",
        "plt.ylabel('Accuracy')\n",
        "plt.title('Learning Curve')\n",
        "plt.legend()\n",
        "plt.grid(True)\n",
        "plt.show()"
      ]
    },
    {
      "cell_type": "code",
      "execution_count": 8,
      "metadata": {
        "colab": {
          "base_uri": "https://localhost:8080/"
        },
        "id": "2xu4wOkVKtgj",
        "outputId": "f25ad4bd-cbde-482c-8adc-29016d39400a"
      },
      "outputs": [
        {
          "name": "stdout",
          "output_type": "stream",
          "text": [
            "1.00000 0.99995 1.00000 1.00000 1.00000 0.99990 0.99990 0.99990 0.99971 0.99971 \n",
            "Average 10-fold cross-validation accuracy: 0.99991 \n",
            "\n",
            "1.00000 0.99992 1.00000 1.00000 1.00000 0.99985 0.99992 0.99985 0.99955 0.99955 \n",
            "Average 10-fold cross-validation precision: 0.99986 \n",
            "\n",
            "1.00000 1.00000 1.00000 1.00000 1.00000 1.00000 0.99992 1.00000 1.00000 1.00000 \n",
            "Average 10-fold cross-validation recall: 0.99999 \n",
            "\n",
            "1.00000 0.99996 1.00000 1.00000 1.00000 0.99992 0.99992 0.99992 0.99977 0.99977 \n",
            "Average 10-fold cross-validation f1: 0.99993 \n",
            "\n",
            "1.00000 1.00000 1.00000 1.00000 1.00000 1.00000 0.99992 1.00000 1.00000 1.00000 \n",
            "Average 10-fold cross-validation roc_auc: 0.99999 \n",
            "\n"
          ]
        }
      ],
      "source": [
        "from sklearn.metrics import accuracy_score, precision_score, recall_score, f1_score, roc_auc_score\n",
        "from sklearn.model_selection import cross_val_score\n",
        "\n",
        "# 進行 K-fold cross-validation for each evaluation metric\n",
        "scoring_metrics = ['accuracy', 'precision', 'recall', 'f1', 'roc_auc']\n",
        "\n",
        "num_folds=10\n",
        "\n",
        "for metric in scoring_metrics:\n",
        "    cv_scores = cross_val_score(svm_model, X_train, y_train, cv=num_folds, scoring=metric)\n",
        "    avg_score = np.mean(cv_scores)\n",
        "    for score in cv_scores:\n",
        "        print(f\"{score:.5f}\", end=\" \")\n",
        "    print(f\"\\nAverage {num_folds}-fold cross-validation {metric}: {avg_score:.5f}\", \"\\n\")\n"
      ]
    },
    {
      "cell_type": "code",
      "execution_count": 9,
      "metadata": {
        "colab": {
          "base_uri": "https://localhost:8080/"
        },
        "id": "yjuiTXJOKtgj",
        "outputId": "4ff5159a-6eb8-464c-de66-7c72ad0c3c1b"
      },
      "outputs": [
        {
          "name": "stdout",
          "output_type": "stream",
          "text": [
            "Testing performance:  \n",
            "\n",
            "Accuracy: 99.9709% \n",
            "\n",
            "Precision: 99.9574% \n",
            "\n",
            "Recall: 99.9970% \n",
            "\n",
            "F1-Score: 99.9772% \n",
            "\n",
            "ROC AUC: 99.9610% \n",
            "\n",
            "Confusion Matrix:\n",
            "[[18661    14]\n",
            " [    1 32859]]\n"
          ]
        }
      ],
      "source": [
        "from sklearn.metrics import accuracy_score, precision_score, recall_score, f1_score, roc_auc_score, confusion_matrix\n",
        "\n",
        "# 預測測試集\n",
        "pred_test = svm_model.predict(X_test)\n",
        "\n",
        "print(\"Testing performance: \", \"\\n\")\n",
        "\n",
        "test_accuracy = accuracy_score(y_test, pred_test)\n",
        "test_precision = precision_score(y_test, pred_test)\n",
        "test_recall = recall_score(y_test, pred_test)\n",
        "test_f1 = f1_score(y_test, pred_test)\n",
        "test_roc_auc = roc_auc_score(y_test, pred_test)\n",
        "test_conf_matrix = confusion_matrix(y_test, pred_test)\n",
        "\n",
        "print(f\"Accuracy: {test_accuracy*100:.4f}%\", \"\\n\")\n",
        "print(f\"Precision: {test_precision*100:.4f}%\", \"\\n\")\n",
        "print(f\"Recall: {test_recall*100:.4f}%\", \"\\n\")\n",
        "print(f\"F1-Score: {test_f1*100:.4f}%\", \"\\n\")\n",
        "print(f\"ROC AUC: {test_roc_auc*100:.4f}%\", \"\\n\")\n",
        "print(\"Confusion Matrix:\")\n",
        "print(test_conf_matrix)"
      ]
    },
    {
      "cell_type": "code",
      "execution_count": 10,
      "metadata": {
        "colab": {
          "base_uri": "https://localhost:8080/"
        },
        "id": "_gv1nIG706q_",
        "outputId": "e5218ba1-4ea0-4d95-9deb-c5a6a4cb8146"
      },
      "outputs": [
        {
          "name": "stdout",
          "output_type": "stream",
          "text": [
            "Saved!\n"
          ]
        }
      ],
      "source": [
        "import joblib\n",
        "save=input(\"儲存模型:(y/n)\")\n",
        "\n",
        "if save == 'y':\n",
        "  joblib.dump(svm_model, file_path + 'svm_model.pkl')\n",
        "  print(\"Saved!\")\n",
        "elif save =='n':\n",
        "  print(\"Done!\")\n",
        "else:\n",
        "  print(\"Error!\")"
      ]
    }
  ],
  "metadata": {
    "accelerator": "GPU",
    "colab": {
      "provenance": []
    },
    "kernelspec": {
      "display_name": "Python 3",
      "name": "python3"
    },
    "language_info": {
      "codemirror_mode": {
        "name": "ipython",
        "version": 3
      },
      "file_extension": ".py",
      "mimetype": "text/x-python",
      "name": "python",
      "nbconvert_exporter": "python",
      "pygments_lexer": "ipython3",
      "version": "3.8.18"
    }
  },
  "nbformat": 4,
  "nbformat_minor": 0
}
